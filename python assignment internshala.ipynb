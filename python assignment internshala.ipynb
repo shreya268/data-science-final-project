{
 "cells": [
  {
   "cell_type": "code",
   "execution_count": 2,
   "metadata": {},
   "outputs": [
    {
     "name": "stdout",
     "output_type": "stream",
     "text": [
      "Experiment Number,visitor_id,session_id,page_name,country,event_date,page_map,premium,\n",
      "\n",
      "['E', 'x', 'p', 'e', 'r', 'i', 'm', 'e', 'n', 't', '', 'N', 'u', 'm', 'b', 'e', 'r', ',', 'v', 'i', 's', 'i', 't', 'o', 'r', '_', 'i', 'd', ',', 's', 'e', 's', 's', 'i', 'o', 'n', '_', 'i', 'd', ',', 'p', 'a', 'g', 'e', '_', 'n', 'a', 'm', 'e', ',', 'c', 'o', 'u', 'n', 't', 'r', 'y', ',', 'e', 'v', 'e', 'n', 't', '_', 'd', 'a', 't', 'e', ',', 'p', 'a', 'g', 'e', '_', 'm', 'a', 'p', ',', 'p', 'r', 'e', 'm', 'i', 'u', 'm', ',', '']\n"
     ]
    }
   ],
   "source": [
    "# write a program to read a fie line by line and store it into list\n",
    "\n",
    "with open(\"GC_Task_Sheet.csv.csv\") as f:\n",
    "    content_list =f.readline()\n",
    "    print(content_list)\n",
    "    content_list = [x.strip() for x in content_list]\n",
    "    print(content_list)"
   ]
  },
  {
   "cell_type": "code",
   "execution_count": 4,
   "metadata": {},
   "outputs": [
    {
     "name": "stdout",
     "output_type": "stream",
     "text": [
      "-2183\n"
     ]
    }
   ],
   "source": [
    "# write a python program to calculate the number of days between two dates.\n",
    "from datetime import date\n",
    "f_date = date(2020,7,2)\n",
    "l_date = date(2014,7,11)\n",
    "delta = l_date - f_date\n",
    "print(delta.days)"
   ]
  },
  {
   "cell_type": "code",
   "execution_count": 13,
   "metadata": {},
   "outputs": [
    {
     "name": "stdout",
     "output_type": "stream",
     "text": [
      "original string\n",
      "{'4': 5, '6': 7, '1': 2, '3': 4}\n",
      "\n",
      "JSON data:\n",
      "{\n",
      "    \"1\": 2,\n",
      "    \"3\": 4,\n",
      "    \"4\": 5,\n",
      "    \"6\": 7\n",
      "}\n"
     ]
    }
   ],
   "source": [
    "# Write a Python program to convert the Python dictionary object (sort by key) to\n",
    "JSON data. Print the object members with indent level 4.\n",
    "\n",
    "import json\n",
    "j_str = {'4':5,'6':7,'1':2,'3':4}\n",
    "print(\"original string\")\n",
    "print(j_str)\n",
    "print(\"\\nJSON data:\")\n",
    "print(json.dumps(j_str, sort_keys= True , indent= 4))"
   ]
  },
  {
   "cell_type": "code",
   "execution_count": 14,
   "metadata": {},
   "outputs": [
    {
     "name": "stdout",
     "output_type": "stream",
     "text": [
      "Original list of dictionaries :\n",
      "[{'make': 'Nokia', 'model': 216, 'color': 'Black'}, {'make': 'Mi Max', 'model': '2', 'color': 'Gold'}, {'make': 'Samsung', 'model': 7, 'color': 'Blue'}]\n",
      "\n",
      "Sorting the List of dictionaries :\n",
      "[{'make': 'Nokia', 'model': 216, 'color': 'Black'}, {'make': 'Samsung', 'model': 7, 'color': 'Blue'}, {'make': 'Mi Max', 'model': '2', 'color': 'Gold'}]\n"
     ]
    }
   ],
   "source": [
    "  #Write a Python program to sort a list of dictionaries using Lambda.\n",
    " Original list of dictionaries :\n",
    " [{'make': 'Nokia', 'model': 216, 'color': 'Black'}, {'make': 'Mi Max', 'model': '2',\n",
    "'color': 'Gold'}, {'make': 'Samsung', 'model': 7, 'color': 'Blue'}]\n",
    " Sorting the List of dictionaries :\n",
    " [{'make': 'Nokia', 'model': 216, 'color': 'Black'}, {'make': 'Samsung', 'model': 7,\n",
    "'color': 'Blue'}, {'make': 'Mi Max', 'model': '2', 'color': 'Gold'}]\n",
    "    \n",
    "    \n",
    "models = [{'make':'Nokia', 'model':216, 'color':'Black'}, {'make':'Mi Max', 'model':'2', 'color':'Gold'}, {'make':'Samsung', 'model': 7, 'color':'Blue'}]\n",
    "print(\"Original list of dictionaries :\")\n",
    "print(models)\n",
    "sorted_models = sorted(models, key = lambda x: x['color'])\n",
    "print(\"\\nSorting the List of dictionaries :\")\n",
    "print(sorted_models)"
   ]
  },
  {
   "cell_type": "code",
   "execution_count": null,
   "metadata": {},
   "outputs": [],
   "source": [
    "\n",
    "\n"
   ]
  },
  {
   "cell_type": "code",
   "execution_count": 36,
   "metadata": {},
   "outputs": [
    {
     "name": "stdout",
     "output_type": "stream",
     "text": [
      "Number of words in text file : 392\n"
     ]
    }
   ],
   "source": [
    "#Write a Python program that takes a text file as input and returns the number of\n",
    "words of a given text file. \n",
    "    \n",
    "file = open(\"braint.txt\")\n",
    "data = file.read()\n",
    "words = data.split()\n",
    "\n",
    "print('Number of words in text file :', len(words))"
   ]
  },
  {
   "cell_type": "code",
   "execution_count": 27,
   "metadata": {},
   "outputs": [
    {
     "name": "stdout",
     "output_type": "stream",
     "text": [
      "Original array:\n",
      "A1: array('i', [1, 2, 3, 4, 5, 6])\n",
      "Array of bytes: b'010000000200000003000000040000000500000006000000'\n"
     ]
    }
   ],
   "source": [
    "import array\n",
    "import binascii\n",
    "a = array.array('i', [1,2,3,4,5,6])\n",
    "print(\"Original array:\")\n",
    "print('A1:', a)\n",
    "bytes_array = a.tobytes()\n",
    "print('Array of bytes:', binascii.hexlify(bytes_array))"
   ]
  },
  {
   "cell_type": "code",
   "execution_count": null,
   "metadata": {},
   "outputs": [],
   "source": []
  },
  {
   "cell_type": "code",
   "execution_count": null,
   "metadata": {},
   "outputs": [],
   "source": []
  }
 ],
 "metadata": {
  "kernelspec": {
   "display_name": "Python 3",
   "language": "python",
   "name": "python3"
  },
  "language_info": {
   "codemirror_mode": {
    "name": "ipython",
    "version": 3
   },
   "file_extension": ".py",
   "mimetype": "text/x-python",
   "name": "python",
   "nbconvert_exporter": "python",
   "pygments_lexer": "ipython3",
   "version": "3.8.3"
  }
 },
 "nbformat": 4,
 "nbformat_minor": 4
}
